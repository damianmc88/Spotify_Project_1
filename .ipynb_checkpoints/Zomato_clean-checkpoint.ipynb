{
 "cells": [
  {
   "cell_type": "code",
   "execution_count": 2,
   "metadata": {},
   "outputs": [
    {
     "name": "stdout",
     "output_type": "stream",
     "text": [
      "name 'requests' is not defined 0\n",
      "name 'requests' is not defined 20\n",
      "name 'requests' is not defined 40\n",
      "name 'requests' is not defined 60\n",
      "name 'requests' is not defined 80\n"
     ]
    }
   ],
   "source": [
    "# def get_results(start_index):\n",
    "\n",
    "def get_results(start_index, cuisines):\n",
    "    headers = {\n",
    "        'Accept': 'application/json',\n",
    "        'user-key': '4acc54ca3cf4e3c53521751bd0a2ca40',\n",
    "    }\n",
    "\n",
    "    params = (\n",
    "        ('entity_id', '305'),\n",
    "        ('entity_type', 'city'),\n",
    "        ('start', start_index ),\n",
    "        ('cuisines', cuisines)\n",
    "    )\n",
    "    \n",
    "    url = 'https://developers.zomato.com/api/v2.1/search'\n",
    "    response = requests.get(url, headers=headers, params=params)\n",
    "    return response.json()\n",
    "\n",
    "\n",
    "#x = get_results(0)\n",
    "\n",
    "all_results = []\n",
    "\n",
    "for x in range(0, 100, 20):\n",
    "    try:\n",
    "        # get the data\n",
    "        temp_result = get_results(x, 177)\n",
    "        all_results.append(temp_result)\n",
    "        \n",
    "    except Exception as e:\n",
    "        print(e, x)"
   ]
  },
  {
   "cell_type": "code",
   "execution_count": 5,
   "metadata": {},
   "outputs": [
    {
     "ename": "NameError",
     "evalue": "name 'request' is not defined",
     "output_type": "error",
     "traceback": [
      "\u001b[1;31m---------------------------------------------------------------------------\u001b[0m",
      "\u001b[1;31mNameError\u001b[0m                                 Traceback (most recent call last)",
      "\u001b[1;32m<ipython-input-5-18243f864fc3>\u001b[0m in \u001b[0;36m<module>\u001b[1;34m()\u001b[0m\n\u001b[0;32m     14\u001b[0m \u001b[1;33m\u001b[0m\u001b[0m\n\u001b[0;32m     15\u001b[0m \u001b[0murl\u001b[0m \u001b[1;33m=\u001b[0m \u001b[1;34m'https://developers.zomato.com/api/v2.1/search'\u001b[0m\u001b[1;33m\u001b[0m\u001b[0m\n\u001b[1;32m---> 16\u001b[1;33m \u001b[0mresponse_test\u001b[0m \u001b[1;33m=\u001b[0m \u001b[0mrequest\u001b[0m\u001b[1;33m.\u001b[0m\u001b[0mget\u001b[0m\u001b[1;33m(\u001b[0m\u001b[0murl\u001b[0m\u001b[1;33m,\u001b[0m \u001b[0mheaders\u001b[0m\u001b[1;33m=\u001b[0m\u001b[0mheaders\u001b[0m\u001b[1;33m,\u001b[0m \u001b[0mparams\u001b[0m\u001b[1;33m=\u001b[0m\u001b[0mparams\u001b[0m\u001b[1;33m)\u001b[0m\u001b[1;33m\u001b[0m\u001b[0m\n\u001b[0m\u001b[0;32m     17\u001b[0m \u001b[0mresponse_test\u001b[0m\u001b[1;33m.\u001b[0m\u001b[0mjson\u001b[0m\u001b[1;33m(\u001b[0m\u001b[1;33m)\u001b[0m\u001b[1;33m\u001b[0m\u001b[0m\n",
      "\u001b[1;31mNameError\u001b[0m: name 'request' is not defined"
     ]
    }
   ],
   "source": [
    "start_index = 0\n",
    "\n",
    "headers = {\n",
    "    'Accept': 'application/json',\n",
    "    'user-key': '4acc54ca3cf4e3c53521751bd0a2ca40'\n",
    "    }\n",
    "\n",
    "params = (\n",
    "        ('entity_id', '305'),\n",
    "        ('entity_type', 'city'),\n",
    "        ('cuisines', 177),\n",
    "        ('start', start_index)\n",
    "    )\n",
    "    \n",
    "url = 'https://developers.zomato.com/api/v2.1/search'\n",
    "response_test = request.get(url, headers=headers, params=params)\n",
    "response_test.json()"
   ]
  },
  {
   "cell_type": "code",
   "execution_count": 4,
   "metadata": {},
   "outputs": [
    {
     "ename": "NameError",
     "evalue": "name 'pd' is not defined",
     "output_type": "error",
     "traceback": [
      "\u001b[1;31m---------------------------------------------------------------------------\u001b[0m",
      "\u001b[1;31mNameError\u001b[0m                                 Traceback (most recent call last)",
      "\u001b[1;32m<ipython-input-4-7f4abe1bebe7>\u001b[0m in \u001b[0;36m<module>\u001b[1;34m()\u001b[0m\n\u001b[0;32m      6\u001b[0m \u001b[1;33m\u001b[0m\u001b[0m\n\u001b[0;32m      7\u001b[0m \u001b[1;33m\u001b[0m\u001b[0m\n\u001b[1;32m----> 8\u001b[1;33m \u001b[0mdf\u001b[0m \u001b[1;33m=\u001b[0m \u001b[0mpd\u001b[0m\u001b[1;33m.\u001b[0m\u001b[0mDataFrame\u001b[0m\u001b[1;33m.\u001b[0m\u001b[0mfrom_records\u001b[0m\u001b[1;33m(\u001b[0m\u001b[0mfor_df\u001b[0m\u001b[1;33m)\u001b[0m\u001b[1;33m\u001b[0m\u001b[0m\n\u001b[0m\u001b[0;32m      9\u001b[0m \u001b[1;33m\u001b[0m\u001b[0m\n\u001b[0;32m     10\u001b[0m \u001b[0mdf\u001b[0m\u001b[1;33m[\u001b[0m\u001b[1;34m'res_id'\u001b[0m\u001b[1;33m]\u001b[0m \u001b[1;33m=\u001b[0m \u001b[0mdf\u001b[0m\u001b[1;33m[\u001b[0m\u001b[1;34m'R'\u001b[0m\u001b[1;33m]\u001b[0m\u001b[1;33m.\u001b[0m\u001b[0mmap\u001b[0m\u001b[1;33m(\u001b[0m\u001b[1;32mlambda\u001b[0m \u001b[0mx\u001b[0m\u001b[1;33m:\u001b[0m \u001b[0mx\u001b[0m\u001b[1;33m.\u001b[0m\u001b[0mget\u001b[0m\u001b[1;33m(\u001b[0m\u001b[1;34m'res_id'\u001b[0m\u001b[1;33m)\u001b[0m\u001b[1;33m)\u001b[0m\u001b[1;33m\u001b[0m\u001b[0m\n",
      "\u001b[1;31mNameError\u001b[0m: name 'pd' is not defined"
     ]
    }
   ],
   "source": [
    "for_df = []\n",
    "\n",
    "for row in all_results:\n",
    "    for restaurant in row.get('restaurants'):\n",
    "        for_df.append(restaurant.get('restaurant'))\n",
    "        \n",
    "    \n",
    "df = pd.DataFrame.from_records(for_df)\n",
    "\n",
    "df['res_id'] = df['R'].map(lambda x: x.get('res_id'))\n",
    "df['lat'] = df['location'].map(lambda x: x.get('latitude'))\n",
    "df['lng'] = df['location'].map(lambda x: x.get('longitude'))\n",
    "df['aggregate_rating'] = df['user_rating'].map(lambda x: x.get('aggregate_rating'))\n",
    "df['rating_text'] = df['user_rating'].map(lambda x: x.get('rating_text'))\n",
    "df['votes'] = df['user_rating'].map(lambda x: x.get('votes'))\n",
    "# df['cuisines'] = df['location'].map(lambda x: x.get('zipcode'))\n",
    "\n",
    "keep = ['res_id', 'name', 'lat','lng','cuisines','aggregate_rating','rating_text','votes']\n",
    "newdf = df[keep].copy()\n",
    "\n",
    "newdf.head()\n",
    "\n",
    "newdf"
   ]
  },
  {
   "cell_type": "code",
   "execution_count": null,
   "metadata": {},
   "outputs": [],
   "source": []
  }
 ],
 "metadata": {
  "kernelspec": {
   "display_name": "Python 3",
   "language": "python",
   "name": "python3"
  },
  "language_info": {
   "codemirror_mode": {
    "name": "ipython",
    "version": 3
   },
   "file_extension": ".py",
   "mimetype": "text/x-python",
   "name": "python",
   "nbconvert_exporter": "python",
   "pygments_lexer": "ipython3",
   "version": "3.7.0"
  }
 },
 "nbformat": 4,
 "nbformat_minor": 2
}
